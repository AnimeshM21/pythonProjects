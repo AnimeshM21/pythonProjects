{
 "cells": [
  {
   "cell_type": "code",
   "execution_count": 1,
   "id": "02857652-9309-4ab9-9a5e-1224ff2eba71",
   "metadata": {},
   "outputs": [],
   "source": [
    "from IPython.display import clear_output\n",
    "\n",
    "def display_board(board):\n",
    "    clear_output()\n",
    "    print(board[7] + ' | ' + board[8] + ' | ' + board[9])\n",
    "    print('---------')\n",
    "    print(board[4] + ' | ' + board[5] + ' | ' + board[6])\n",
    "    print('---------')\n",
    "    print(board[1] + ' | ' + board[2] + ' | ' + board[3])"
   ]
  },
  {
   "cell_type": "code",
   "execution_count": 3,
   "id": "de2da079-80bf-4630-83dc-a742eae95e40",
   "metadata": {},
   "outputs": [
    {
     "name": "stdout",
     "output_type": "stream",
     "text": [
      "X | O | X\n",
      "---------\n",
      "O | X | O\n",
      "---------\n",
      "X | O | X\n"
     ]
    }
   ],
   "source": [
    "test_board = ['#','X','O','X','O','X','O','X','O','X']\n",
    "display_board(test_board)\n",
    "display_board(test_board)"
   ]
  },
  {
   "cell_type": "code",
   "execution_count": 13,
   "id": "1c7f4bc4-1330-4bb5-9947-fea5530049fb",
   "metadata": {},
   "outputs": [],
   "source": [
    "def player_input():\n",
    "    \n",
    "    player_choice = ''\n",
    "    while player_choice != 'X' and player_choice != 'O':\n",
    "        player_choice = input(\"Player_1: Enter your choice - X or O:\").upper()\n",
    "    if player_choice == 'X':\n",
    "        return ('X','O')\n",
    "    else:\n",
    "        return ('O','X')\n",
    "        "
   ]
  },
  {
   "cell_type": "code",
   "execution_count": 15,
   "id": "8d173023-69b0-450b-80e2-7cc0e150b571",
   "metadata": {},
   "outputs": [
    {
     "name": "stdin",
     "output_type": "stream",
     "text": [
      "Player_1: Enter your choice - X or O: O\n"
     ]
    }
   ],
   "source": [
    "player_one,player_two = player_input()"
   ]
  },
  {
   "cell_type": "code",
   "execution_count": 17,
   "id": "5eaec35e-136c-42f4-8cf3-4c27d81566a8",
   "metadata": {},
   "outputs": [
    {
     "data": {
      "text/plain": [
       "'X'"
      ]
     },
     "execution_count": 17,
     "metadata": {},
     "output_type": "execute_result"
    }
   ],
   "source": [
    "player_two\n"
   ]
  },
  {
   "cell_type": "code",
   "execution_count": 97,
   "id": "bb9aad12-ac45-4d8b-82c3-a7330b224ed5",
   "metadata": {},
   "outputs": [],
   "source": [
    "def board_position(board,player_choice,position):\n",
    "    board[position] = player_choice"
   ]
  },
  {
   "cell_type": "code",
   "execution_count": 99,
   "id": "c916a23d-9c8d-4b0c-91da-bc090d00e027",
   "metadata": {},
   "outputs": [
    {
     "name": "stdout",
     "output_type": "stream",
     "text": [
      "A | A | A\n",
      "---------\n",
      "O | X | O\n",
      "---------\n",
      "X | X | X\n"
     ]
    }
   ],
   "source": [
    "board_position(test_board,'X',2)\n",
    "display_board(test_board)"
   ]
  },
  {
   "cell_type": "code",
   "execution_count": 101,
   "id": "350f4584-5922-4b9c-a3ee-55cddf1cfe26",
   "metadata": {},
   "outputs": [],
   "source": [
    "\n",
    "def win_check(board,player):\n",
    "    \n",
    "    return ((board[1] == board[2] == board[3] == player) or\n",
    "    (board[4] == board[5] == board[6] == player) or\n",
    "    (board[7] == board[8] == board[9] == player) or\n",
    "    (board[7] == board[5] == board[3] == player) or\n",
    "    (board[1] == board[5] == board[9] == player) or\n",
    "    (board[1] == board[4] == board[7] == player) or\n",
    "    (board[2] == board[5] == board[8] == player) or\n",
    "    (board[3] == board[6] == board[9] == player))\n"
   ]
  },
  {
   "cell_type": "code",
   "execution_count": 103,
   "id": "961f8f8d-5b2a-4f46-96f5-e3b4b8be7c04",
   "metadata": {},
   "outputs": [
    {
     "name": "stdout",
     "output_type": "stream",
     "text": [
      "A | A | A\n",
      "---------\n",
      "O | X | O\n",
      "---------\n",
      "X | X | X\n"
     ]
    },
    {
     "data": {
      "text/plain": [
       "True"
      ]
     },
     "execution_count": 103,
     "metadata": {},
     "output_type": "execute_result"
    }
   ],
   "source": [
    "display_board(test_board)\n",
    "win_check(test_board,'X')"
   ]
  },
  {
   "cell_type": "code",
   "execution_count": 105,
   "id": "4cab8d87-5406-4e99-90f9-5274fe610d16",
   "metadata": {},
   "outputs": [],
   "source": [
    "import random\n",
    "\n",
    "def choose_first():\n",
    "    first_player = random.randint(0,1) \n",
    "    if (first_player == 0):\n",
    "        return 'Player 1'\n",
    "    else:\n",
    "        return 'Player 2'\n",
    "        "
   ]
  },
  {
   "cell_type": "code",
   "execution_count": 107,
   "id": "0181b271-df9d-4823-a866-4e9da3dacf01",
   "metadata": {},
   "outputs": [
    {
     "data": {
      "text/plain": [
       "'Player 2'"
      ]
     },
     "execution_count": 107,
     "metadata": {},
     "output_type": "execute_result"
    }
   ],
   "source": [
    "choose_first()"
   ]
  },
  {
   "cell_type": "code",
   "execution_count": 116,
   "id": "1805bedd-146f-4a7d-9b9a-1a1917d1bbd8",
   "metadata": {},
   "outputs": [],
   "source": [
    "def isSpace(board,position):\n",
    "    return board[position] == ' '"
   ]
  },
  {
   "cell_type": "code",
   "execution_count": 118,
   "id": "8cd69eb9-7853-4d88-97e3-435d375b1de5",
   "metadata": {},
   "outputs": [],
   "source": [
    "def isFull(board):\n",
    "    for i in range(0,10):\n",
    "        if isSpace(board,i):\n",
    "            return False\n",
    "        else:\n",
    "            return True\n",
    "    "
   ]
  },
  {
   "cell_type": "code",
   "execution_count": 120,
   "id": "26a99f83-9742-4d27-a404-fd31957ed7c7",
   "metadata": {},
   "outputs": [
    {
     "data": {
      "text/plain": [
       "True"
      ]
     },
     "execution_count": 120,
     "metadata": {},
     "output_type": "execute_result"
    }
   ],
   "source": [
    "isFull(test_board)"
   ]
  },
  {
   "cell_type": "code",
   "execution_count": null,
   "id": "2992a6d2-500f-4fcd-9892-0feb66b7a471",
   "metadata": {},
   "outputs": [],
   "source": []
  }
 ],
 "metadata": {
  "kernelspec": {
   "display_name": "Python 3 (ipykernel)",
   "language": "python",
   "name": "python3"
  },
  "language_info": {
   "codemirror_mode": {
    "name": "ipython",
    "version": 3
   },
   "file_extension": ".py",
   "mimetype": "text/x-python",
   "name": "python",
   "nbconvert_exporter": "python",
   "pygments_lexer": "ipython3",
   "version": "3.11.7"
  }
 },
 "nbformat": 4,
 "nbformat_minor": 5
}
