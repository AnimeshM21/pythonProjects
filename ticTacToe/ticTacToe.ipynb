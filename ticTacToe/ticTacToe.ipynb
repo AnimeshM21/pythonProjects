{
 "cells": [
  {
   "cell_type": "code",
   "execution_count": 1,
   "id": "02857652-9309-4ab9-9a5e-1224ff2eba71",
   "metadata": {},
   "outputs": [],
   "source": [
    "from IPython.display import clear_output\n",
    "\n",
    "def display_board(board):\n",
    "    clear_output()\n",
    "    print(board[7] + ' | ' + board[8] + ' | ' + board[9])\n",
    "    print('---------')\n",
    "    print(board[4] + ' | ' + board[5] + ' | ' + board[6])\n",
    "    print('---------')\n",
    "    print(board[1] + ' | ' + board[2] + ' | ' + board[3])"
   ]
  },
  {
   "cell_type": "code",
   "execution_count": 42,
   "id": "de2da079-80bf-4630-83dc-a742eae95e40",
   "metadata": {},
   "outputs": [
    {
     "name": "stdout",
     "output_type": "stream",
     "text": [
      "O | X | O\n",
      "---------\n",
      "X | O | X\n",
      "---------\n",
      "O | X | O\n"
     ]
    }
   ],
   "source": [
    "test_board = ['X','O']*5\n",
    "display_board(test_board)\n",
    "display_board(test_board)"
   ]
  },
  {
   "cell_type": "code",
   "execution_count": 44,
   "id": "1c7f4bc4-1330-4bb5-9947-fea5530049fb",
   "metadata": {},
   "outputs": [],
   "source": [
    "def player_input():\n",
    "    \n",
    "    player_choice = ''\n",
    "    while player_choice != 'X' and player_choice != 'O':\n",
    "        player_choice = input(\"Player_1: Enter your choice - X or O:\").upper()\n",
    "    if player_choice == 'X':\n",
    "        return ('X','O')\n",
    "    else:\n",
    "        return ('O','X')\n",
    "        "
   ]
  },
  {
   "cell_type": "code",
   "execution_count": 46,
   "id": "8d173023-69b0-450b-80e2-7cc0e150b571",
   "metadata": {},
   "outputs": [
    {
     "name": "stdout",
     "output_type": "stream",
     "text": [
      "Player_1: Enter your choice - X or O: x\n"
     ]
    }
   ],
   "source": [
    "player_one,player_two = player_input()"
   ]
  },
  {
   "cell_type": "code",
   "execution_count": 48,
   "id": "5eaec35e-136c-42f4-8cf3-4c27d81566a8",
   "metadata": {},
   "outputs": [
    {
     "data": {
      "text/plain": [
       "'O'"
      ]
     },
     "execution_count": 48,
     "metadata": {},
     "output_type": "execute_result"
    }
   ],
   "source": [
    "player_two\n"
   ]
  },
  {
   "cell_type": "code",
   "execution_count": 50,
   "id": "bb9aad12-ac45-4d8b-82c3-a7330b224ed5",
   "metadata": {},
   "outputs": [],
   "source": [
    "def board_position(board,player_choice,position):\n",
    "    board[position] = player_choice"
   ]
  },
  {
   "cell_type": "code",
   "execution_count": 52,
   "id": "c916a23d-9c8d-4b0c-91da-bc090d00e027",
   "metadata": {},
   "outputs": [
    {
     "name": "stdout",
     "output_type": "stream",
     "text": [
      "O | X | O\n",
      "---------\n",
      "X | O | X\n",
      "---------\n",
      "O |   | O\n"
     ]
    }
   ],
   "source": [
    "board_position(test_board,' ',2)\n",
    "display_board(test_board)"
   ]
  },
  {
   "cell_type": "code",
   "execution_count": 54,
   "id": "350f4584-5922-4b9c-a3ee-55cddf1cfe26",
   "metadata": {},
   "outputs": [],
   "source": [
    "\n",
    "def win_check(board,player):\n",
    "    \n",
    "    return ((board[1] == board[2] == board[3] == player) or\n",
    "    (board[4] == board[5] == board[6] == player) or\n",
    "    (board[7] == board[8] == board[9] == player) or\n",
    "    (board[7] == board[5] == board[3] == player) or\n",
    "    (board[1] == board[5] == board[9] == player) or\n",
    "    (board[1] == board[4] == board[7] == player) or\n",
    "    (board[2] == board[5] == board[8] == player) or\n",
    "    (board[3] == board[6] == board[9] == player))\n"
   ]
  },
  {
   "cell_type": "code",
   "execution_count": 56,
   "id": "961f8f8d-5b2a-4f46-96f5-e3b4b8be7c04",
   "metadata": {},
   "outputs": [
    {
     "name": "stdout",
     "output_type": "stream",
     "text": [
      "O | X | O\n",
      "---------\n",
      "X | O | X\n",
      "---------\n",
      "O |   | O\n"
     ]
    },
    {
     "data": {
      "text/plain": [
       "False"
      ]
     },
     "execution_count": 56,
     "metadata": {},
     "output_type": "execute_result"
    }
   ],
   "source": [
    "display_board(test_board)\n",
    "win_check(test_board,'X')"
   ]
  },
  {
   "cell_type": "code",
   "execution_count": 58,
   "id": "4cab8d87-5406-4e99-90f9-5274fe610d16",
   "metadata": {},
   "outputs": [],
   "source": [
    "import random\n",
    "\n",
    "def choose_first():\n",
    "    first_player = random.randint(0,1) \n",
    "    if (first_player == 0):\n",
    "        return 'Player 1'\n",
    "    else:\n",
    "        return 'Player 2'\n",
    "        "
   ]
  },
  {
   "cell_type": "code",
   "execution_count": 60,
   "id": "0181b271-df9d-4823-a866-4e9da3dacf01",
   "metadata": {},
   "outputs": [
    {
     "data": {
      "text/plain": [
       "'Player 1'"
      ]
     },
     "execution_count": 60,
     "metadata": {},
     "output_type": "execute_result"
    }
   ],
   "source": [
    "choose_first()"
   ]
  },
  {
   "cell_type": "code",
   "execution_count": 62,
   "id": "1805bedd-146f-4a7d-9b9a-1a1917d1bbd8",
   "metadata": {},
   "outputs": [],
   "source": [
    "def isSpace(board,position):\n",
    "    return board[position] == ' '"
   ]
  },
  {
   "cell_type": "code",
   "execution_count": 64,
   "id": "8cd69eb9-7853-4d88-97e3-435d375b1de5",
   "metadata": {},
   "outputs": [],
   "source": [
    "def isFull(board):\n",
    "    for i in range(0,10):\n",
    "        if isSpace(board,i):\n",
    "            return False\n",
    "        \n",
    "    return True\n",
    "    "
   ]
  },
  {
   "cell_type": "code",
   "execution_count": 66,
   "id": "26a99f83-9742-4d27-a404-fd31957ed7c7",
   "metadata": {},
   "outputs": [
    {
     "data": {
      "text/plain": [
       "False"
      ]
     },
     "execution_count": 66,
     "metadata": {},
     "output_type": "execute_result"
    }
   ],
   "source": [
    "isFull(test_board)"
   ]
  },
  {
   "cell_type": "code",
   "execution_count": 68,
   "id": "2992a6d2-500f-4fcd-9892-0feb66b7a471",
   "metadata": {},
   "outputs": [],
   "source": [
    "def player_nextchoice(board):\n",
    "    position =0\n",
    "    display_board(board)\n",
    "    while position not in [1,2,3,4,5,6,7,8,9] or not isSpace(test_board,position):\n",
    "        position = int(input(\"Choose your next position (1-9):\"))\n",
    "    return position\n",
    "                       \n",
    "        \n",
    "        "
   ]
  },
  {
   "cell_type": "code",
   "execution_count": 73,
   "id": "414096ec-55cc-412e-ad74-12dc319b463b",
   "metadata": {},
   "outputs": [
    {
     "name": "stdout",
     "output_type": "stream",
     "text": [
      "O | X | O\n",
      "---------\n",
      "X | O | X\n",
      "---------\n",
      "O |   | O\n"
     ]
    },
    {
     "name": "stdout",
     "output_type": "stream",
     "text": [
      "Choose your next position (1-9): 2\n"
     ]
    },
    {
     "data": {
      "text/plain": [
       "2"
      ]
     },
     "execution_count": 73,
     "metadata": {},
     "output_type": "execute_result"
    }
   ],
   "source": [
    "player_nextchoice(test_board)"
   ]
  },
  {
   "cell_type": "code",
   "execution_count": null,
   "id": "95fe7d56-1008-41a4-b2a9-27009723ca0f",
   "metadata": {},
   "outputs": [],
   "source": []
  },
  {
   "cell_type": "code",
   "execution_count": 75,
   "id": "301b5b86-e10a-4285-858d-c8b772e32b6a",
   "metadata": {},
   "outputs": [],
   "source": [
    "def replay():\n",
    "    choice = input(\"Want to play again?  Yes  or  No\")\n",
    "\n",
    "    return choice=='Yes'"
   ]
  },
  {
   "cell_type": "code",
   "execution_count": 81,
   "id": "f97164e0-95ce-49f9-acaf-b6893b1f59f2",
   "metadata": {},
   "outputs": [
    {
     "name": "stdout",
     "output_type": "stream",
     "text": [
      "   |    |   \n",
      "---------\n",
      "   |    |   \n",
      "---------\n",
      "   | O |   \n",
      "This game is a tie\n"
     ]
    },
    {
     "name": "stdout",
     "output_type": "stream",
     "text": [
      "Want to play again?  Yes  or  No no\n"
     ]
    }
   ],
   "source": [
    "print(\"Welcome to the Tic-Tac-Toe Game\")\n",
    "\n",
    "while True:\n",
    "    game_board = ['  ']*10\n",
    "    player_one,player_two = player_input()\n",
    "\n",
    "    turn =choose_first()\n",
    "    print(turn + ' will go first')\n",
    "\n",
    "    play_game = input('Ready to play: Y or N').isupper()\n",
    "    game_on = True\n",
    "    if play_game == 'Y':\n",
    "        game_on  == True\n",
    "    else:\n",
    "        game_on == False\n",
    "    while game_on:\n",
    "\n",
    "        if turn == 'Player 1':\n",
    "            display_board(game_board)\n",
    "            \n",
    "            position = player_nextchoice()\n",
    "            \n",
    "            board_position(game_board,player_one,position)\n",
    "            \n",
    "            if win_check(game_board,player_one):\n",
    "                display_board(game_board)\n",
    "                print(\"Player 1 has WON!!\")\n",
    "                game_on = False\n",
    "            else:\n",
    "                if isFull(game_board):\n",
    "                    display_board(game_board)\n",
    "                    print(\"This game is a tie\")\n",
    "                    game_on = False\n",
    "                else:\n",
    "                    turn = 'Player 2'\n",
    "        \n",
    "        else:\n",
    "            display_board(game_board)\n",
    "            \n",
    "            position = player_nextchoice(game_board)\n",
    "            \n",
    "            board_position(game_board,player_two,position)\n",
    "            \n",
    "            if win_check(game_board,player_two):\n",
    "                display_board(game_board)\n",
    "                print(\"Player 2 has WON!!\")\n",
    "                game_on = False\n",
    "            else:\n",
    "                if isFull(game_board):\n",
    "                    display_board(game_board)\n",
    "                    print(\"This game is a tie\")\n",
    "                    game_on = False\n",
    "                else:\n",
    "                    turn = 'Player 1'\n",
    "        \n",
    "\n",
    "\n",
    "\n",
    "\n",
    "    if not replay():\n",
    "        break"
   ]
  },
  {
   "cell_type": "code",
   "execution_count": null,
   "id": "ef8305ab-9343-41eb-bb29-2e522054d2a5",
   "metadata": {},
   "outputs": [],
   "source": []
  }
 ],
 "metadata": {
  "kernelspec": {
   "display_name": "Python 3 (ipykernel)",
   "language": "python",
   "name": "python3"
  },
  "language_info": {
   "codemirror_mode": {
    "name": "ipython",
    "version": 3
   },
   "file_extension": ".py",
   "mimetype": "text/x-python",
   "name": "python",
   "nbconvert_exporter": "python",
   "pygments_lexer": "ipython3",
   "version": "3.11.7"
  }
 },
 "nbformat": 4,
 "nbformat_minor": 5
}
