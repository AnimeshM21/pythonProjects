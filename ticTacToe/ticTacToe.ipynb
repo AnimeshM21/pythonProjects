{
 "cells": [
  {
   "cell_type": "code",
   "execution_count": 8,
   "id": "02857652-9309-4ab9-9a5e-1224ff2eba71",
   "metadata": {},
   "outputs": [],
   "source": [
    "from IPython.display import clear_output\n",
    "\n",
    "def display_board(board):\n",
    "    clear_output()\n",
    "    print(board[7] + ' | ' + board[8] + ' | ' + board[9])\n",
    "    print('---------')\n",
    "    print(board[4] + ' | ' + board[5] + ' | ' + board[6])\n",
    "    print('---------')\n",
    "    print(board[1] + ' | ' + board[2] + ' | ' + board[3])"
   ]
  },
  {
   "cell_type": "code",
   "execution_count": 10,
   "id": "de2da079-80bf-4630-83dc-a742eae95e40",
   "metadata": {},
   "outputs": [
    {
     "name": "stdout",
     "output_type": "stream",
     "text": [
      "O | X | O\n",
      "---------\n",
      "X | O | X\n",
      "---------\n",
      "O | X | O\n"
     ]
    }
   ],
   "source": [
    "test_board = ['X','O']*5\n",
    "display_board(test_board)\n",
    "display_board(test_board)"
   ]
  },
  {
   "cell_type": "code",
   "execution_count": 12,
   "id": "1c7f4bc4-1330-4bb5-9947-fea5530049fb",
   "metadata": {},
   "outputs": [],
   "source": [
    "def player_input():\n",
    "\n",
    "    #Output  = (Player 1 marker, Player 2 marker)\n",
    "    \n",
    "    player_choice = ''\n",
    "    while player_choice != 'X' and player_choice != 'O':\n",
    "        player_choice = input(\"Player_1: Enter your choice - X or O:\").upper()\n",
    "    if player_choice == 'X':\n",
    "        return ('X','O')\n",
    "    else:\n",
    "        return ('O','X')\n",
    "        "
   ]
  },
  {
   "cell_type": "code",
   "execution_count": 14,
   "id": "8d173023-69b0-450b-80e2-7cc0e150b571",
   "metadata": {},
   "outputs": [
    {
     "name": "stdin",
     "output_type": "stream",
     "text": [
      "Player_1: Enter your choice - X or O: X\n"
     ]
    }
   ],
   "source": [
    "player_one,player_two = player_input()"
   ]
  },
  {
   "cell_type": "code",
   "execution_count": 16,
   "id": "5eaec35e-136c-42f4-8cf3-4c27d81566a8",
   "metadata": {},
   "outputs": [
    {
     "data": {
      "text/plain": [
       "'O'"
      ]
     },
     "execution_count": 16,
     "metadata": {},
     "output_type": "execute_result"
    }
   ],
   "source": [
    "player_two\n"
   ]
  },
  {
   "cell_type": "code",
   "execution_count": 18,
   "id": "bb9aad12-ac45-4d8b-82c3-a7330b224ed5",
   "metadata": {},
   "outputs": [],
   "source": [
    "def board_position(board,player_choice,position):\n",
    "    board[position] = player_choice"
   ]
  },
  {
   "cell_type": "code",
   "execution_count": 20,
   "id": "c916a23d-9c8d-4b0c-91da-bc090d00e027",
   "metadata": {},
   "outputs": [
    {
     "name": "stdout",
     "output_type": "stream",
     "text": [
      "O | X | O\n",
      "---------\n",
      "X | O | X\n",
      "---------\n",
      "$ | $ | $\n"
     ]
    }
   ],
   "source": [
    "board_position(test_board,'$',1)\n",
    "board_position(test_board,'$',2)\n",
    "board_position(test_board,'$',3)\n",
    "display_board(test_board)"
   ]
  },
  {
   "cell_type": "code",
   "execution_count": 22,
   "id": "350f4584-5922-4b9c-a3ee-55cddf1cfe26",
   "metadata": {},
   "outputs": [],
   "source": [
    "def win_check(board, mark):\n",
    "    win_combinations = [\n",
    "        (1, 2, 3), (4, 5, 6), (7, 8, 9),  # Rows\n",
    "        (1, 4, 7), (2, 5, 8), (3, 6, 9),  # Columns\n",
    "        (1, 5, 9), (7, 5, 3)              # Diagonals\n",
    "    ]\n",
    "    \n",
    "    return any(board[a] == board[b] == board[c] == mark for a, b, c in win_combinations)\n"
   ]
  },
  {
   "cell_type": "code",
   "execution_count": 24,
   "id": "961f8f8d-5b2a-4f46-96f5-e3b4b8be7c04",
   "metadata": {},
   "outputs": [
    {
     "name": "stdout",
     "output_type": "stream",
     "text": [
      "O | X | O\n",
      "---------\n",
      "X | O | X\n",
      "---------\n",
      "$ | $ | $\n"
     ]
    },
    {
     "data": {
      "text/plain": [
       "True"
      ]
     },
     "execution_count": 24,
     "metadata": {},
     "output_type": "execute_result"
    }
   ],
   "source": [
    "display_board(test_board)\n",
    "win_check(test_board,'$')"
   ]
  },
  {
   "cell_type": "code",
   "execution_count": 26,
   "id": "4cab8d87-5406-4e99-90f9-5274fe610d16",
   "metadata": {},
   "outputs": [],
   "source": [
    "import random\n",
    "\n",
    "def choose_first():\n",
    "    first_player = random.randint(0,1) \n",
    "    if (first_player == 0):\n",
    "        return 'Player 1'\n",
    "    else:\n",
    "        return 'Player 2'\n",
    "        "
   ]
  },
  {
   "cell_type": "code",
   "execution_count": 28,
   "id": "0181b271-df9d-4823-a866-4e9da3dacf01",
   "metadata": {},
   "outputs": [
    {
     "data": {
      "text/plain": [
       "'Player 1'"
      ]
     },
     "execution_count": 28,
     "metadata": {},
     "output_type": "execute_result"
    }
   ],
   "source": [
    "choose_first()"
   ]
  },
  {
   "cell_type": "code",
   "execution_count": 30,
   "id": "1805bedd-146f-4a7d-9b9a-1a1917d1bbd8",
   "metadata": {},
   "outputs": [],
   "source": [
    "def isSpace(board,position):\n",
    "    return board[position] == ' '"
   ]
  },
  {
   "cell_type": "code",
   "execution_count": 32,
   "id": "8cd69eb9-7853-4d88-97e3-435d375b1de5",
   "metadata": {},
   "outputs": [],
   "source": [
    "def isFull(board):\n",
    "    for i in range(0,10):\n",
    "        if isSpace(board,i):\n",
    "            return False\n",
    "        \n",
    "    return True\n",
    "    "
   ]
  },
  {
   "cell_type": "code",
   "execution_count": 41,
   "id": "784c4d34-dc5f-4f34-be83-05991e1f42e3",
   "metadata": {},
   "outputs": [],
   "source": [
    "def player_nextchoice(board):\n",
    "    position = 0\n",
    "    \n",
    "    while position not in [1, 2, 3, 4, 5, 6, 7, 8, 9] or not isSpace(board, position):\n",
    "        position = int(input(\"Choose your next position (1-9): \"))\n",
    "    \n",
    "    return position"
   ]
  },
  {
   "cell_type": "code",
   "execution_count": 43,
   "id": "301b5b86-e10a-4285-858d-c8b772e32b6a",
   "metadata": {},
   "outputs": [],
   "source": [
    "def replay():\n",
    "    choice = input(\"Want to play again?  Yes  or  No\")\n",
    "\n",
    "    return choice=='Yes'"
   ]
  },
  {
   "cell_type": "code",
   "execution_count": 45,
   "id": "b7467b2f-8325-4a62-937d-b2ca7645649b",
   "metadata": {},
   "outputs": [
    {
     "name": "stdout",
     "output_type": "stream",
     "text": [
      "   |    |   \n",
      "---------\n",
      "   |    |   \n",
      "---------\n",
      "   |    |   \n"
     ]
    },
    {
     "name": "stdin",
     "output_type": "stream",
     "text": [
      "Choose your next position (1-9):  3\n",
      "Choose your next position (1-9):  2\n",
      "Choose your next position (1-9):  1\n",
      "Choose your next position (1-9):  3\n",
      "Choose your next position (1-9):  5\n",
      "Choose your next position (1-9):  5\n",
      "Choose your next position (1-9):  6\n",
      "Choose your next position (1-9):  7\n",
      "Choose your next position (1-9):  8\n",
      "Choose your next position (1-9):  8\n",
      "Choose your next position (1-9):  \n"
     ]
    },
    {
     "ename": "ValueError",
     "evalue": "invalid literal for int() with base 10: ''",
     "output_type": "error",
     "traceback": [
      "\u001b[0;31m---------------------------------------------------------------------------\u001b[0m",
      "\u001b[0;31mValueError\u001b[0m                                Traceback (most recent call last)",
      "Cell \u001b[0;32mIn[45], line 36\u001b[0m\n\u001b[1;32m     34\u001b[0m \u001b[38;5;28;01melse\u001b[39;00m:\n\u001b[1;32m     35\u001b[0m     display_board(game_board)\n\u001b[0;32m---> 36\u001b[0m     position \u001b[38;5;241m=\u001b[39m player_nextchoice(game_board)  \u001b[38;5;66;03m# Get Player 2's move\u001b[39;00m\n\u001b[1;32m     37\u001b[0m     board_position(game_board, player_two, position)  \u001b[38;5;66;03m# Update the board\u001b[39;00m\n\u001b[1;32m     39\u001b[0m     \u001b[38;5;28;01mif\u001b[39;00m win_check(game_board, player_two):  \u001b[38;5;66;03m# Check if Player 2 wins\u001b[39;00m\n",
      "Cell \u001b[0;32mIn[41], line 5\u001b[0m, in \u001b[0;36mplayer_nextchoice\u001b[0;34m(board)\u001b[0m\n\u001b[1;32m      2\u001b[0m position \u001b[38;5;241m=\u001b[39m \u001b[38;5;241m0\u001b[39m\n\u001b[1;32m      4\u001b[0m \u001b[38;5;28;01mwhile\u001b[39;00m position \u001b[38;5;129;01mnot\u001b[39;00m \u001b[38;5;129;01min\u001b[39;00m [\u001b[38;5;241m1\u001b[39m, \u001b[38;5;241m2\u001b[39m, \u001b[38;5;241m3\u001b[39m, \u001b[38;5;241m4\u001b[39m, \u001b[38;5;241m5\u001b[39m, \u001b[38;5;241m6\u001b[39m, \u001b[38;5;241m7\u001b[39m, \u001b[38;5;241m8\u001b[39m, \u001b[38;5;241m9\u001b[39m] \u001b[38;5;129;01mor\u001b[39;00m \u001b[38;5;129;01mnot\u001b[39;00m isSpace(board, position):\n\u001b[0;32m----> 5\u001b[0m     position \u001b[38;5;241m=\u001b[39m \u001b[38;5;28mint\u001b[39m(\u001b[38;5;28minput\u001b[39m(\u001b[38;5;124m\"\u001b[39m\u001b[38;5;124mChoose your next position (1-9): \u001b[39m\u001b[38;5;124m\"\u001b[39m))\n\u001b[1;32m      7\u001b[0m \u001b[38;5;28;01mreturn\u001b[39;00m position\n",
      "\u001b[0;31mValueError\u001b[0m: invalid literal for int() with base 10: ''"
     ]
    }
   ],
   "source": [
    "print(\"Welcome to the Tic-Tac-Toe Game\")\n",
    "\n",
    "while True:\n",
    "    game_board = ['  '] * 10  # Initialize the game board (index 0 is ignored)\n",
    "    player_one, player_two = player_input()  # Get player markers\n",
    "\n",
    "    turn = choose_first()  # Randomly choose the starting player\n",
    "    print(turn + ' will go first')\n",
    "\n",
    "    play_game = input('Ready to play: y or n: ')\n",
    "    \n",
    "    if play_game.lower() == 'y':\n",
    "        game_on = True\n",
    "    else:\n",
    "        game_on = False\n",
    "\n",
    "    while game_on:\n",
    "        if turn == 'Player 1':\n",
    "            display_board(game_board)\n",
    "            position = player_nextchoice(game_board)  # Get Player 1's move\n",
    "            board_position(game_board, player_one, position)  # Update the board\n",
    "\n",
    "            if win_check(game_board, player_one):  # Check if Player 1 wins\n",
    "                display_board(game_board)\n",
    "                print(\"Player 1 has WON!!\")\n",
    "                game_on = False\n",
    "            elif isFull(game_board):  # Check if the board is full (tie)\n",
    "                display_board(game_board)\n",
    "                print(\"This game is a tie!\")\n",
    "                game_on = False\n",
    "            else:\n",
    "                turn = 'Player 2'  # Switch turn to Player 2\n",
    "        \n",
    "        else:\n",
    "            display_board(game_board)\n",
    "            position = player_nextchoice(game_board)  # Get Player 2's move\n",
    "            board_position(game_board, player_two, position)  # Update the board\n",
    "\n",
    "            if win_check(game_board, player_two):  # Check if Player 2 wins\n",
    "                display_board(game_board)\n",
    "                print(\"Player 2 has WON!!\")\n",
    "                game_on = False\n",
    "            elif isFull(game_board):  # Check if the board is full (tie)\n",
    "                display_board(game_board)\n",
    "                print(\"This game is a tie!\")\n",
    "                game_on = False\n",
    "            else:\n",
    "                turn = 'Player 1'  # Switch turn to Player 1\n",
    "\n",
    "    # Ask if players want to play again\n",
    "    if not replay():\n",
    "        break  # Break the outer loop if they don't want to play again"
   ]
  },
  {
   "cell_type": "code",
   "execution_count": null,
   "id": "ef8305ab-9343-41eb-bb29-2e522054d2a5",
   "metadata": {},
   "outputs": [],
   "source": []
  }
 ],
 "metadata": {
  "kernelspec": {
   "display_name": "Python 3 (ipykernel)",
   "language": "python",
   "name": "python3"
  },
  "language_info": {
   "codemirror_mode": {
    "name": "ipython",
    "version": 3
   },
   "file_extension": ".py",
   "mimetype": "text/x-python",
   "name": "python",
   "nbconvert_exporter": "python",
   "pygments_lexer": "ipython3",
   "version": "3.11.7"
  }
 },
 "nbformat": 4,
 "nbformat_minor": 5
}
